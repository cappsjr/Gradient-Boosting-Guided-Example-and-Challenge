{
 "cells": [
  {
   "cell_type": "code",
   "execution_count": 66,
   "metadata": {
    "collapsed": true
   },
   "outputs": [],
   "source": [
    "import numpy as np\n",
    "import pandas as pd\n",
    "import scipy\n",
    "import matplotlib.pyplot as plt\n",
    "import seaborn as sns\n",
    "%matplotlib inline\n",
    "\n",
    "from sklearn import ensemble\n",
    "from sklearn import datasets\n",
    "from sklearn.utils import shuffle\n",
    "from sklearn.metrics import mean_squared_error"
   ]
  },
  {
   "cell_type": "code",
   "execution_count": 67,
   "metadata": {
    "collapsed": true
   },
   "outputs": [],
   "source": [
    "# Lets do a gradient boost with SKlearn\n",
    "# We'll use the European social survey again, but now with a categorical outcome: \n",
    "# Whether someone lives with a partner"
   ]
  },
  {
   "cell_type": "code",
   "execution_count": 68,
   "metadata": {},
   "outputs": [],
   "source": [
    "df = pd.read_csv((\n",
    "    \"https://raw.githubusercontent.com/Thinkful-Ed/data-201-resources/\"\n",
    "    \"master/ESS_practice_data/ESSdata_Thinkful.csv\")).dropna()\n",
    "\n",
    "# Define outcome and predictors\n",
    "# Set out outcome to 0 and 1\n",
    "y = df['partner'] - 1\n",
    "X = df.loc[:, ~df.columns.isin(['partner', 'cntry', 'idno'])]\n",
    "\n",
    "# Make the categorical variable 'cntry' into dummies\n",
    "X = pd.concat([X, pd.get_dummies(df['cntry'])], axis=1)\n",
    "\n",
    "# Create training and test sets\n",
    "offset = int(X.shape[0] * 0.9)\n",
    "\n",
    "# Put 90% of the data in the training set\n",
    "X_train, y_train = X[:offset], y[:offset]\n",
    "\n",
    "# And put 10% in the test set\n",
    "X_test, y_test = X[offset:], y[offset:]"
   ]
  },
  {
   "cell_type": "code",
   "execution_count": 111,
   "metadata": {
    "collapsed": true
   },
   "outputs": [],
   "source": [
    "# Since are working with a binary outcome, we have switched to a classifier\n",
    "# Now our loss function can't be residuals.  It can be 'deviance' or 'exponential'.\n",
    "# Deviance is used for logistical regression, and we'll try that here."
   ]
  },
  {
   "cell_type": "code",
   "execution_count": 70,
   "metadata": {},
   "outputs": [
    {
     "name": "stdout",
     "output_type": "stream",
     "text": [
      "Training Set Accuracy: \n",
      "Percent Type I Errors: 0.04650845608292417\n",
      "Percent Type II Errors: 0.17607746863066012\n",
      "Test Set Accuracy: \n",
      "Percent Type I Errors: 0.06257668711656442\n",
      "Percent Type II Errors: 0.18527607361963191\n",
      "\n",
      "0.777414075286\n",
      "0.752147239264\n"
     ]
    }
   ],
   "source": [
    "# We'll make 500 iterations, use 2-deep trees, and set out loss function.\n",
    "params = {'n_estimators': 500,\n",
    "         'max_depth': 2,\n",
    "         'loss': 'deviance'}\n",
    "\n",
    "# Initialize and fit the model\n",
    "clf = ensemble.GradientBoostingClassifier(**params)\n",
    "clf.fit(X_train, y_train)\n",
    "\n",
    "predict_train = clf.predict(X_train)\n",
    "predict_test = clf.predict(X_test)\n",
    "\n",
    "# Accuracy tables\n",
    "table_train = pd.crosstab(y_train, predict_train, margins=True)\n",
    "table_test = pd.crosstab(y_test, predict_test, margins=True)\n",
    "\n",
    "train_tI_errors = table_train.loc[0.0,1.0] / table_train.loc['All', 'All']\n",
    "train_tII_errors = table_train.loc[1.0,0.0] / table_train.loc['All', 'All']\n",
    "\n",
    "test_tI_errors = table_test.loc[0.0,1.0] / table_test.loc['All', 'All']\n",
    "test_tII_errors = table_test.loc[1.0,0.0] / table_test.loc['All', 'All']\n",
    "\n",
    "print(('Training Set Accuracy: \\n'\n",
    "      'Percent Type I Errors: {}\\n'\n",
    "      'Percent Type II Errors: {}\\n'\n",
    "      'Test Set Accuracy: \\n'\n",
    "      'Percent Type I Errors: {}\\n'\n",
    "      'Percent Type II Errors: {}\\n').format(train_tI_errors, train_tII_errors, test_tI_errors, test_tII_errors))\n",
    "\n",
    "print(clf.score(X_train, y_train))\n",
    "print(clf.score(X_test, y_test))"
   ]
  },
  {
   "cell_type": "code",
   "execution_count": 71,
   "metadata": {
    "collapsed": true
   },
   "outputs": [],
   "source": [
    "# Unlike decision trees, gradient boosts are not easy to interpret on the surface, but they aren't a black box.\n",
    "# We can get a measure of how important various features are by counting how many times a feature is used\n",
    "# over the course of many decision trees."
   ]
  },
  {
   "cell_type": "code",
   "execution_count": 72,
   "metadata": {},
   "outputs": [
    {
     "data": {
      "image/png": "[encoded data removed]",
      "text/plain": [
       "<matplotlib.figure.Figure at 0x11df01470>"
      ]
     },
     "metadata": {},
     "output_type": "display_data"
    }
   ],
   "source": [
    "feature_importance = clf.feature_importances_\n",
    "\n",
    "# Make importances relative to max importance\n",
    "feature_importance = 100 * (feature_importance / feature_importance.max())\n",
    "sorted_idx = np.argsort(feature_importance)\n",
    "pos = np.arange(sorted_idx.shape[0]) +  0.5\n",
    "plt.subplot(1, 2, 2)\n",
    "plt.barh(pos, feature_importance[sorted_idx], align='center')\n",
    "plt.yticks(pos, X.columns[sorted_idx])\n",
    "plt.xlabel('Relative importance')\n",
    "plt.ylabel('Variable importance')\n",
    "plt.show()"
   ]
  },
  {
   "cell_type": "code",
   "execution_count": 73,
   "metadata": {
    "collapsed": true
   },
   "outputs": [],
   "source": [
    "# It appears that age and happiness are the most important features when predicting whether someone lives\n",
    "# with a partner or not"
   ]
  },
  {
   "cell_type": "code",
   "execution_count": 74,
   "metadata": {},
   "outputs": [
    {
     "data": {
      "image/png": "[encoded data removed]",
      "text/plain": [
       "<matplotlib.figure.Figure at 0x11de9a470>"
      ]
     },
     "metadata": {},
     "output_type": "display_data"
    },
    {
     "data": {
      "image/png": "[encoded data removed]",
      "text/plain": [
       "<matplotlib.figure.Figure at 0x11a71a550>"
      ]
     },
     "metadata": {},
     "output_type": "display_data"
    },
    {
     "data": {
      "image/png": "[encoded data removed]",
      "text/plain": [
       "<matplotlib.figure.Figure at 0x11d093518>"
      ]
     },
     "metadata": {},
     "output_type": "display_data"
    },
    {
     "data": {
      "image/png": "[encoded data removed]",
      "text/plain": [
       "<matplotlib.figure.Figure at 0x11d8e8128>"
      ]
     },
     "metadata": {},
     "output_type": "display_data"
    },
    {
     "data": {
      "image/png": "[encoded data removed]",
      "text/plain": [
       "<matplotlib.figure.Figure at 0x11d3df588>"
      ]
     },
     "metadata": {},
     "output_type": "display_data"
    },
    {
     "data": {
      "image/png": "[encoded data removed]",
      "text/plain": [
       "<matplotlib.figure.Figure at 0x11d7dce80>"
      ]
     },
     "metadata": {},
     "output_type": "display_data"
    },
    {
     "data": {
      "image/png": "[encoded data removed]",
      "text/plain": [
       "<matplotlib.figure.Figure at 0x11d47e630>"
      ]
     },
     "metadata": {},
     "output_type": "display_data"
    }
   ],
   "source": [
    "# Lets further examine some of the input variables relationships to the outcome variable\n",
    "\n",
    "# Lets do a countplot to show the relationship between sclmeet and partner\n",
    "\n",
    "cat_var = [df['tvtot'], df['ppltrst'], df['pplfair'], df['gndr'], df['pplhlp'], df['sclmeet'], df['sclact']]\n",
    "\n",
    "for item in cat_var:\n",
    "    sns.countplot(y=item, hue='partner', data=df, palette='Greens_d')\n",
    "    plt.show()\n"
   ]
  },
  {
   "cell_type": "code",
   "execution_count": 75,
   "metadata": {
    "collapsed": true
   },
   "outputs": [],
   "source": [
    "#Lets try making more categorical variables "
   ]
  },
  {
   "cell_type": "code",
   "execution_count": 76,
   "metadata": {},
   "outputs": [
    {
     "data": {
      "text/html": [
       "<div>\n",
       "<style>\n",
       "    .dataframe thead tr:only-child th {\n",
       "        text-align: right;\n",
       "    }\n",
       "\n",
       "    .dataframe thead th {\n",
       "        text-align: left;\n",
       "    }\n",
       "\n",
       "    .dataframe tbody tr th {\n",
       "        vertical-align: top;\n",
       "    }\n",
       "</style>\n",
       "<table border=\"1\" class=\"dataframe\">\n",
       "  <thead>\n",
       "    <tr style=\"text-align: right;\">\n",
       "      <th></th>\n",
       "      <th>cntry</th>\n",
       "      <th>idno</th>\n",
       "      <th>year</th>\n",
       "      <th>tvtot</th>\n",
       "      <th>ppltrst</th>\n",
       "      <th>pplfair</th>\n",
       "      <th>pplhlp</th>\n",
       "      <th>happy</th>\n",
       "      <th>sclmeet</th>\n",
       "      <th>sclact</th>\n",
       "      <th>gndr</th>\n",
       "      <th>agea</th>\n",
       "      <th>partner</th>\n",
       "      <th>tvtot_small</th>\n",
       "      <th>tvtot_med</th>\n",
       "      <th>tvtot_lg</th>\n",
       "      <th>sclmeet_less</th>\n",
       "    </tr>\n",
       "  </thead>\n",
       "  <tbody>\n",
       "    <tr>\n",
       "      <th>0</th>\n",
       "      <td>CH</td>\n",
       "      <td>5.0</td>\n",
       "      <td>6</td>\n",
       "      <td>3.0</td>\n",
       "      <td>3.0</td>\n",
       "      <td>10.0</td>\n",
       "      <td>5.0</td>\n",
       "      <td>8.0</td>\n",
       "      <td>5.0</td>\n",
       "      <td>4.0</td>\n",
       "      <td>2.0</td>\n",
       "      <td>60.0</td>\n",
       "      <td>1.0</td>\n",
       "      <td>0</td>\n",
       "      <td>1</td>\n",
       "      <td>0</td>\n",
       "      <td>1</td>\n",
       "    </tr>\n",
       "    <tr>\n",
       "      <th>1</th>\n",
       "      <td>CH</td>\n",
       "      <td>25.0</td>\n",
       "      <td>6</td>\n",
       "      <td>6.0</td>\n",
       "      <td>5.0</td>\n",
       "      <td>7.0</td>\n",
       "      <td>5.0</td>\n",
       "      <td>9.0</td>\n",
       "      <td>3.0</td>\n",
       "      <td>2.0</td>\n",
       "      <td>2.0</td>\n",
       "      <td>59.0</td>\n",
       "      <td>1.0</td>\n",
       "      <td>0</td>\n",
       "      <td>1</td>\n",
       "      <td>1</td>\n",
       "      <td>1</td>\n",
       "    </tr>\n",
       "    <tr>\n",
       "      <th>2</th>\n",
       "      <td>CH</td>\n",
       "      <td>26.0</td>\n",
       "      <td>6</td>\n",
       "      <td>1.0</td>\n",
       "      <td>8.0</td>\n",
       "      <td>8.0</td>\n",
       "      <td>8.0</td>\n",
       "      <td>7.0</td>\n",
       "      <td>6.0</td>\n",
       "      <td>3.0</td>\n",
       "      <td>1.0</td>\n",
       "      <td>24.0</td>\n",
       "      <td>2.0</td>\n",
       "      <td>1</td>\n",
       "      <td>1</td>\n",
       "      <td>0</td>\n",
       "      <td>0</td>\n",
       "    </tr>\n",
       "    <tr>\n",
       "      <th>3</th>\n",
       "      <td>CH</td>\n",
       "      <td>28.0</td>\n",
       "      <td>6</td>\n",
       "      <td>4.0</td>\n",
       "      <td>6.0</td>\n",
       "      <td>6.0</td>\n",
       "      <td>7.0</td>\n",
       "      <td>10.0</td>\n",
       "      <td>6.0</td>\n",
       "      <td>2.0</td>\n",
       "      <td>2.0</td>\n",
       "      <td>64.0</td>\n",
       "      <td>1.0</td>\n",
       "      <td>0</td>\n",
       "      <td>1</td>\n",
       "      <td>0</td>\n",
       "      <td>0</td>\n",
       "    </tr>\n",
       "    <tr>\n",
       "      <th>4</th>\n",
       "      <td>CH</td>\n",
       "      <td>29.0</td>\n",
       "      <td>6</td>\n",
       "      <td>5.0</td>\n",
       "      <td>6.0</td>\n",
       "      <td>7.0</td>\n",
       "      <td>5.0</td>\n",
       "      <td>8.0</td>\n",
       "      <td>7.0</td>\n",
       "      <td>2.0</td>\n",
       "      <td>2.0</td>\n",
       "      <td>55.0</td>\n",
       "      <td>1.0</td>\n",
       "      <td>0</td>\n",
       "      <td>1</td>\n",
       "      <td>1</td>\n",
       "      <td>0</td>\n",
       "    </tr>\n",
       "  </tbody>\n",
       "</table>\n",
       "</div>"
      ],
      "text/plain": [
       "  cntry  idno  year  tvtot  ppltrst  pplfair  pplhlp  happy  sclmeet  sclact  \\\n",
       "0    CH   5.0     6    3.0      3.0     10.0     5.0    8.0      5.0     4.0   \n",
       "1    CH  25.0     6    6.0      5.0      7.0     5.0    9.0      3.0     2.0   \n",
       "2    CH  26.0     6    1.0      8.0      8.0     8.0    7.0      6.0     3.0   \n",
       "3    CH  28.0     6    4.0      6.0      6.0     7.0   10.0      6.0     2.0   \n",
       "4    CH  29.0     6    5.0      6.0      7.0     5.0    8.0      7.0     2.0   \n",
       "\n",
       "   gndr  agea  partner  tvtot_small  tvtot_med  tvtot_lg  sclmeet_less  \n",
       "0   2.0  60.0      1.0            0          1         0             1  \n",
       "1   2.0  59.0      1.0            0          1         1             1  \n",
       "2   1.0  24.0      2.0            1          1         0             0  \n",
       "3   2.0  64.0      1.0            0          1         0             0  \n",
       "4   2.0  55.0      1.0            0          1         1             0  "
      ]
     },
     "execution_count": 76,
     "metadata": {},
     "output_type": "execute_result"
    }
   ],
   "source": [
    "# New tvot variables; a little TV, medium amount of TV, large amount of TV\n",
    "df['tvtot_small'] = np.where(df['tvtot'] < 2, 1, 0)\n",
    "df['tvtot_med'] = np.where((2 <= df['tvtot']) < 5, 1, 0)\n",
    "df['tvtot_lg'] = np.where(df['tvtot'] >= 5, 1, 0)\n",
    "\n",
    "# New \n",
    "\n",
    "# New sclmeet variable; where people socialize with friends etc. once a week or less\n",
    "df['sclmeet_less'] = np.where(df['sclmeet'] <= 5, 1, 0)\n",
    "\n",
    "df.head()"
   ]
  },
  {
   "cell_type": "code",
   "execution_count": 77,
   "metadata": {},
   "outputs": [],
   "source": [
    "# Define outcome and predictors\n",
    "# Set out outcome to 0 and 1\n",
    "y = df['partner'] - 1\n",
    "X = df.loc[:, ~df.columns.isin(['partner', 'cntry', 'idno'])]\n",
    "\n",
    "# Make the categorical variable 'cntry' into dummies\n",
    "X = pd.concat([X, pd.get_dummies(df['cntry'])], axis=1)\n",
    "\n",
    "# Create training and test sets\n",
    "offset = int(X.shape[0] * 0.9)\n",
    "\n",
    "# Put 90% of the data in the training set\n",
    "X_train, y_train = X[:offset], y[:offset]\n",
    "\n",
    "# And put 10% in the test set\n",
    "X_test, y_test = X[offset:], y[offset:]"
   ]
  },
  {
   "cell_type": "code",
   "execution_count": 78,
   "metadata": {},
   "outputs": [
    {
     "name": "stdout",
     "output_type": "stream",
     "text": [
      "Training Set Accuracy: \n",
      "Percent Type I Errors: 0.04650845608292417\n",
      "Percent Type II Errors: 0.17607746863066012\n",
      "Test Set Accuracy: \n",
      "Percent Type I Errors: 0.06257668711656442\n",
      "Percent Type II Errors: 0.18527607361963191\n",
      "\n",
      "0.777414075286\n",
      "0.752147239264\n"
     ]
    }
   ],
   "source": [
    "# We'll make 500 iterations, use 2-deep trees, and set out loss function.\n",
    "params = {'n_estimators': 500,\n",
    "         'max_depth': 2,\n",
    "         'loss': 'deviance'}\n",
    "\n",
    "# Initialize and fit the model\n",
    "clf = ensemble.GradientBoostingClassifier(**params)\n",
    "clf.fit(X_train, y_train)\n",
    "\n",
    "predict_train = clf.predict(X_train)\n",
    "predict_test = clf.predict(X_test)\n",
    "\n",
    "# Accuracy tables\n",
    "table_train = pd.crosstab(y_train, predict_train, margins=True)\n",
    "table_test = pd.crosstab(y_test, predict_test, margins=True)\n",
    "\n",
    "train_tI_errors = table_train.loc[0.0,1.0] / table_train.loc['All', 'All']\n",
    "train_tII_errors = table_train.loc[1.0,0.0] / table_train.loc['All', 'All']\n",
    "\n",
    "test_tI_errors = table_test.loc[0.0,1.0] / table_test.loc['All', 'All']\n",
    "test_tII_errors = table_test.loc[1.0,0.0] / table_test.loc['All', 'All']\n",
    "\n",
    "print(('Training Set Accuracy: \\n'\n",
    "      'Percent Type I Errors: {}\\n'\n",
    "      'Percent Type II Errors: {}\\n'\n",
    "      'Test Set Accuracy: \\n'\n",
    "      'Percent Type I Errors: {}\\n'\n",
    "      'Percent Type II Errors: {}\\n').format(train_tI_errors, train_tII_errors, test_tI_errors, test_tII_errors))\n",
    "\n",
    "print(clf.score(X_train, y_train))\n",
    "print(clf.score(X_test, y_test))"
   ]
  },
  {
   "cell_type": "code",
   "execution_count": 79,
   "metadata": {},
   "outputs": [
    {
     "data": {
      "image/png": "[encoded data removed]",
      "text/plain": [
       "<matplotlib.figure.Figure at 0x11d975f98>"
      ]
     },
     "metadata": {},
     "output_type": "display_data"
    }
   ],
   "source": [
    "feature_importance = clf.feature_importances_\n",
    "\n",
    "# Make importances relative to max importance\n",
    "feature_importance = 100 * (feature_importance / feature_importance.max())\n",
    "sorted_idx = np.argsort(feature_importance)\n",
    "pos = np.arange(sorted_idx.shape[0]) +  0.5\n",
    "plt.subplot(1, 2, 2)\n",
    "plt.barh(pos, feature_importance[sorted_idx], align='center')\n",
    "plt.yticks(pos, X.columns[sorted_idx])\n",
    "plt.xlabel('Relative importance')\n",
    "plt.ylabel('Variable importance')\n",
    "plt.show()"
   ]
  },
  {
   "cell_type": "code",
   "execution_count": 42,
   "metadata": {
    "collapsed": true
   },
   "outputs": [],
   "source": [
    "# It appears that the new feature did not affect the accuracy of the model at all.  \n",
    "# Lets remove our new features and try new approach. \n",
    "# Lets increase the number of iterations."
   ]
  },
  {
   "cell_type": "code",
   "execution_count": 91,
   "metadata": {},
   "outputs": [
    {
     "data": {
      "text/html": [
       "<div>\n",
       "<style>\n",
       "    .dataframe thead tr:only-child th {\n",
       "        text-align: right;\n",
       "    }\n",
       "\n",
       "    .dataframe thead th {\n",
       "        text-align: left;\n",
       "    }\n",
       "\n",
       "    .dataframe tbody tr th {\n",
       "        vertical-align: top;\n",
       "    }\n",
       "</style>\n",
       "<table border=\"1\" class=\"dataframe\">\n",
       "  <thead>\n",
       "    <tr style=\"text-align: right;\">\n",
       "      <th></th>\n",
       "      <th>cntry</th>\n",
       "      <th>idno</th>\n",
       "      <th>year</th>\n",
       "      <th>tvtot</th>\n",
       "      <th>ppltrst</th>\n",
       "      <th>pplfair</th>\n",
       "      <th>pplhlp</th>\n",
       "      <th>happy</th>\n",
       "      <th>sclmeet</th>\n",
       "      <th>sclact</th>\n",
       "      <th>gndr</th>\n",
       "      <th>agea</th>\n",
       "      <th>partner</th>\n",
       "    </tr>\n",
       "  </thead>\n",
       "  <tbody>\n",
       "    <tr>\n",
       "      <th>0</th>\n",
       "      <td>CH</td>\n",
       "      <td>5.0</td>\n",
       "      <td>6</td>\n",
       "      <td>3.0</td>\n",
       "      <td>3.0</td>\n",
       "      <td>10.0</td>\n",
       "      <td>5.0</td>\n",
       "      <td>8.0</td>\n",
       "      <td>5.0</td>\n",
       "      <td>4.0</td>\n",
       "      <td>2.0</td>\n",
       "      <td>60.0</td>\n",
       "      <td>1.0</td>\n",
       "    </tr>\n",
       "    <tr>\n",
       "      <th>1</th>\n",
       "      <td>CH</td>\n",
       "      <td>25.0</td>\n",
       "      <td>6</td>\n",
       "      <td>6.0</td>\n",
       "      <td>5.0</td>\n",
       "      <td>7.0</td>\n",
       "      <td>5.0</td>\n",
       "      <td>9.0</td>\n",
       "      <td>3.0</td>\n",
       "      <td>2.0</td>\n",
       "      <td>2.0</td>\n",
       "      <td>59.0</td>\n",
       "      <td>1.0</td>\n",
       "    </tr>\n",
       "    <tr>\n",
       "      <th>2</th>\n",
       "      <td>CH</td>\n",
       "      <td>26.0</td>\n",
       "      <td>6</td>\n",
       "      <td>1.0</td>\n",
       "      <td>8.0</td>\n",
       "      <td>8.0</td>\n",
       "      <td>8.0</td>\n",
       "      <td>7.0</td>\n",
       "      <td>6.0</td>\n",
       "      <td>3.0</td>\n",
       "      <td>1.0</td>\n",
       "      <td>24.0</td>\n",
       "      <td>2.0</td>\n",
       "    </tr>\n",
       "    <tr>\n",
       "      <th>3</th>\n",
       "      <td>CH</td>\n",
       "      <td>28.0</td>\n",
       "      <td>6</td>\n",
       "      <td>4.0</td>\n",
       "      <td>6.0</td>\n",
       "      <td>6.0</td>\n",
       "      <td>7.0</td>\n",
       "      <td>10.0</td>\n",
       "      <td>6.0</td>\n",
       "      <td>2.0</td>\n",
       "      <td>2.0</td>\n",
       "      <td>64.0</td>\n",
       "      <td>1.0</td>\n",
       "    </tr>\n",
       "    <tr>\n",
       "      <th>4</th>\n",
       "      <td>CH</td>\n",
       "      <td>29.0</td>\n",
       "      <td>6</td>\n",
       "      <td>5.0</td>\n",
       "      <td>6.0</td>\n",
       "      <td>7.0</td>\n",
       "      <td>5.0</td>\n",
       "      <td>8.0</td>\n",
       "      <td>7.0</td>\n",
       "      <td>2.0</td>\n",
       "      <td>2.0</td>\n",
       "      <td>55.0</td>\n",
       "      <td>1.0</td>\n",
       "    </tr>\n",
       "  </tbody>\n",
       "</table>\n",
       "</div>"
      ],
      "text/plain": [
       "  cntry  idno  year  tvtot  ppltrst  pplfair  pplhlp  happy  sclmeet  sclact  \\\n",
       "0    CH   5.0     6    3.0      3.0     10.0     5.0    8.0      5.0     4.0   \n",
       "1    CH  25.0     6    6.0      5.0      7.0     5.0    9.0      3.0     2.0   \n",
       "2    CH  26.0     6    1.0      8.0      8.0     8.0    7.0      6.0     3.0   \n",
       "3    CH  28.0     6    4.0      6.0      6.0     7.0   10.0      6.0     2.0   \n",
       "4    CH  29.0     6    5.0      6.0      7.0     5.0    8.0      7.0     2.0   \n",
       "\n",
       "   gndr  agea  partner  \n",
       "0   2.0  60.0      1.0  \n",
       "1   2.0  59.0      1.0  \n",
       "2   1.0  24.0      2.0  \n",
       "3   2.0  64.0      1.0  \n",
       "4   2.0  55.0      1.0  "
      ]
     },
     "execution_count": 91,
     "metadata": {},
     "output_type": "execute_result"
    }
   ],
   "source": [
    "# Remove the new features that do not contribute to the model\n",
    "\n",
    "df = df.drop(['tvtot_lg', 'tvtot_med', 'tvtot_small', 'sclmeet_less'], axis=1)\n",
    "df.head()"
   ]
  },
  {
   "cell_type": "code",
   "execution_count": 92,
   "metadata": {},
   "outputs": [
    {
     "name": "stdout",
     "output_type": "stream",
     "text": [
      "Training Set Accuracy: \n",
      "Percent Type I Errors: 0.04569012547735952\n",
      "Percent Type II Errors: 0.17171303873431534\n",
      "Test Set Accuracy: \n",
      "Percent Type I Errors: 0.06748466257668712\n",
      "Percent Type II Errors: 0.18036809815950922\n",
      "\n",
      "0.782596835788\n",
      "0.752147239264\n"
     ]
    }
   ],
   "source": [
    "# The first time we ran the model we used 500 iterations.  Lets increase the iterations to 750 and see what happens.\n",
    "\n",
    "# Define outcome and predictors\n",
    "# Set out outcome to 0 and 1\n",
    "y = df['partner'] - 1\n",
    "X = df.loc[:, ~df.columns.isin(['partner', 'cntry', 'idno'])]\n",
    "\n",
    "# Make the categorical variable 'cntry' into dummies\n",
    "X = pd.concat([X, pd.get_dummies(df['cntry'])], axis=1)\n",
    "\n",
    "# Create training and test sets\n",
    "offset = int(X.shape[0] * 0.9)\n",
    "\n",
    "# Put 90% of the data in the training set\n",
    "X_train, y_train = X[:offset], y[:offset]\n",
    "\n",
    "# And put 10% in the test set\n",
    "X_test, y_test = X[offset:], y[offset:]\n",
    "\n",
    "# Change the iterations to 750\n",
    "params = {'n_estimators': 750,\n",
    "         'max_depth': 2,\n",
    "         'loss': 'deviance'}\n",
    "\n",
    "# Initialize and fit the model\n",
    "clf = ensemble.GradientBoostingClassifier(**params)\n",
    "clf.fit(X_train, y_train)\n",
    "\n",
    "predict_train = clf.predict(X_train)\n",
    "predict_test = clf.predict(X_test)\n",
    "\n",
    "# Accuracy tables\n",
    "table_train = pd.crosstab(y_train, predict_train, margins=True)\n",
    "table_test = pd.crosstab(y_test, predict_test, margins=True)\n",
    "\n",
    "train_tI_errors = table_train.loc[0.0,1.0] / table_train.loc['All', 'All']\n",
    "train_tII_errors = table_train.loc[1.0,0.0] / table_train.loc['All', 'All']\n",
    "\n",
    "test_tI_errors = table_test.loc[0.0,1.0] / table_test.loc['All', 'All']\n",
    "test_tII_errors = table_test.loc[1.0,0.0] / table_test.loc['All', 'All']\n",
    "\n",
    "print(('Training Set Accuracy: \\n'\n",
    "      'Percent Type I Errors: {}\\n'\n",
    "      'Percent Type II Errors: {}\\n'\n",
    "      'Test Set Accuracy: \\n'\n",
    "      'Percent Type I Errors: {}\\n'\n",
    "      'Percent Type II Errors: {}\\n').format(train_tI_errors, train_tII_errors, test_tI_errors, test_tII_errors))\n",
    "\n",
    "print(clf.score(X_train, y_train))\n",
    "print(clf.score(X_test, y_test))"
   ]
  },
  {
   "cell_type": "code",
   "execution_count": 93,
   "metadata": {},
   "outputs": [
    {
     "name": "stdout",
     "output_type": "stream",
     "text": [
      "Training Set Accuracy: \n",
      "Percent Type I Errors: 0.044189852700491\n",
      "Percent Type II Errors: 0.1692580469176214\n",
      "Test Set Accuracy: \n",
      "Percent Type I Errors: 0.07116564417177915\n",
      "Percent Type II Errors: 0.18036809815950922\n",
      "\n",
      "0.786552100382\n",
      "0.748466257669\n"
     ]
    }
   ],
   "source": [
    "# Now lets increase the iterations to 1000\n",
    "\n",
    "# Define outcome and predictors\n",
    "# Set out outcome to 0 and 1\n",
    "y = df['partner'] - 1\n",
    "X = df.loc[:, ~df.columns.isin(['partner', 'cntry', 'idno'])]\n",
    "\n",
    "# Make the categorical variable 'cntry' into dummies\n",
    "X = pd.concat([X, pd.get_dummies(df['cntry'])], axis=1)\n",
    "\n",
    "# Create training and test sets\n",
    "offset = int(X.shape[0] * 0.9)\n",
    "\n",
    "# Put 90% of the data in the training set\n",
    "X_train, y_train = X[:offset], y[:offset]\n",
    "\n",
    "# And put 10% in the test set\n",
    "X_test, y_test = X[offset:], y[offset:]\n",
    "\n",
    "# Change the iterations to 1000\n",
    "params = {'n_estimators': 1000,\n",
    "         'max_depth': 2,\n",
    "         'loss': 'deviance'}\n",
    "\n",
    "# Initialize and fit the model\n",
    "clf = ensemble.GradientBoostingClassifier(**params)\n",
    "clf.fit(X_train, y_train)\n",
    "\n",
    "predict_train = clf.predict(X_train)\n",
    "predict_test = clf.predict(X_test)\n",
    "\n",
    "# Accuracy tables\n",
    "table_train = pd.crosstab(y_train, predict_train, margins=True)\n",
    "table_test = pd.crosstab(y_test, predict_test, margins=True)\n",
    "\n",
    "train_tI_errors = table_train.loc[0.0,1.0] / table_train.loc['All', 'All']\n",
    "train_tII_errors = table_train.loc[1.0,0.0] / table_train.loc['All', 'All']\n",
    "\n",
    "test_tI_errors = table_test.loc[0.0,1.0] / table_test.loc['All', 'All']\n",
    "test_tII_errors = table_test.loc[1.0,0.0] / table_test.loc['All', 'All']\n",
    "\n",
    "print(('Training Set Accuracy: \\n'\n",
    "      'Percent Type I Errors: {}\\n'\n",
    "      'Percent Type II Errors: {}\\n'\n",
    "      'Test Set Accuracy: \\n'\n",
    "      'Percent Type I Errors: {}\\n'\n",
    "      'Percent Type II Errors: {}\\n').format(train_tI_errors, train_tII_errors, test_tI_errors, test_tII_errors))\n",
    "\n",
    "print(clf.score(X_train, y_train))\n",
    "print(clf.score(X_test, y_test))"
   ]
  },
  {
   "cell_type": "code",
   "execution_count": 95,
   "metadata": {
    "collapsed": true
   },
   "outputs": [],
   "source": [
    "# Increasing the number of iteration resulted in more error in the test set.  \n",
    "# Lets try a different strategy.  Let's try fewer iterations and see what happens."
   ]
  },
  {
   "cell_type": "code",
   "execution_count": 130,
   "metadata": {},
   "outputs": [
    {
     "name": "stdout",
     "output_type": "stream",
     "text": [
      "Training Set Accuracy: \n",
      "Percent Type I Errors: 0.044326241134751775\n",
      "Percent Type II Errors: 0.1820785597381342\n",
      "Test Set Accuracy: \n",
      "Percent Type I Errors: 0.053987730061349694\n",
      "Percent Type II Errors: 0.19141104294478528\n",
      "\n",
      "0.773595199127\n",
      "0.754601226994\n"
     ]
    }
   ],
   "source": [
    "# Now lets decrease the iterations to 250\n",
    "\n",
    "# Define outcome and predictors\n",
    "# Set out outcome to 0 and 1\n",
    "y = df['partner'] - 1\n",
    "X = df.loc[:, ~df.columns.isin(['partner', 'cntry', 'idno'])]\n",
    "\n",
    "# Make the categorical variable 'cntry' into dummies\n",
    "X = pd.concat([X, pd.get_dummies(df['cntry'])], axis=1)\n",
    "\n",
    "# Create training and test sets\n",
    "offset = int(X.shape[0] * 0.9)\n",
    "\n",
    "# Put 90% of the data in the training set\n",
    "X_train, y_train = X[:offset], y[:offset]\n",
    "\n",
    "# And put 10% in the test set\n",
    "X_test, y_test = X[offset:], y[offset:]\n",
    "\n",
    "# Change the iterations to 250\n",
    "params = {'n_estimators': 250,\n",
    "         'max_depth': 2,\n",
    "         'loss': 'deviance'}\n",
    "\n",
    "# Initialize and fit the model\n",
    "clf = ensemble.GradientBoostingClassifier(**params)\n",
    "clf.fit(X_train, y_train)\n",
    "\n",
    "predict_train = clf.predict(X_train)\n",
    "predict_test = clf.predict(X_test)\n",
    "\n",
    "# Accuracy tables\n",
    "table_train = pd.crosstab(y_train, predict_train, margins=True)\n",
    "table_test = pd.crosstab(y_test, predict_test, margins=True)\n",
    "\n",
    "train_tI_errors = table_train.loc[0.0,1.0] / table_train.loc['All', 'All']\n",
    "train_tII_errors = table_train.loc[1.0,0.0] / table_train.loc['All', 'All']\n",
    "\n",
    "test_tI_errors = table_test.loc[0.0,1.0] / table_test.loc['All', 'All']\n",
    "test_tII_errors = table_test.loc[1.0,0.0] / table_test.loc['All', 'All']\n",
    "\n",
    "print(('Training Set Accuracy: \\n'\n",
    "      'Percent Type I Errors: {}\\n'\n",
    "      'Percent Type II Errors: {}\\n'\n",
    "      'Test Set Accuracy: \\n'\n",
    "      'Percent Type I Errors: {}\\n'\n",
    "      'Percent Type II Errors: {}\\n').format(train_tI_errors, train_tII_errors, test_tI_errors, test_tII_errors))\n",
    "\n",
    "print(clf.score(X_train, y_train))\n",
    "print(clf.score(X_test, y_test))"
   ]
  },
  {
   "cell_type": "code",
   "execution_count": 97,
   "metadata": {
    "collapsed": true
   },
   "outputs": [],
   "source": [
    "# Decreasing the number of iterations lowered the overall accuracy of the training set, \n",
    "# but it increase the overall accuracy of the test set.  There were fewer type I errors (5.3% v 7.1%), but there\n",
    "# were more type II errors (19% v 18%)."
   ]
  },
  {
   "cell_type": "code",
   "execution_count": 98,
   "metadata": {},
   "outputs": [
    {
     "name": "stdout",
     "output_type": "stream",
     "text": [
      "Training Set Accuracy: \n",
      "Percent Type I Errors: 0.0061374795417348605\n",
      "Percent Type II Errors: 0.06860338243316967\n",
      "Test Set Accuracy: \n",
      "Percent Type I Errors: 0.10429447852760736\n",
      "Percent Type II Errors: 0.17300613496932515\n",
      "\n",
      "0.925259138025\n",
      "0.722699386503\n"
     ]
    }
   ],
   "source": [
    "# Lets return the number of iterations to 500 and play with the depth of the trees to see how that changes things\n",
    "\n",
    "# Define outcome and predictors\n",
    "# Set out outcome to 0 and 1\n",
    "y = df['partner'] - 1\n",
    "X = df.loc[:, ~df.columns.isin(['partner', 'cntry', 'idno'])]\n",
    "\n",
    "# Make the categorical variable 'cntry' into dummies\n",
    "X = pd.concat([X, pd.get_dummies(df['cntry'])], axis=1)\n",
    "\n",
    "# Create training and test sets\n",
    "offset = int(X.shape[0] * 0.9)\n",
    "\n",
    "# Put 90% of the data in the training set\n",
    "X_train, y_train = X[:offset], y[:offset]\n",
    "\n",
    "# And put 10% in the test set\n",
    "X_test, y_test = X[offset:], y[offset:]\n",
    "\n",
    "# Change the iterations back to 500; change the max_depth to 5\n",
    "params = {'n_estimators': 500,\n",
    "         'max_depth': 5,\n",
    "         'loss': 'deviance'}\n",
    "\n",
    "# Initialize and fit the model\n",
    "clf = ensemble.GradientBoostingClassifier(**params)\n",
    "clf.fit(X_train, y_train)\n",
    "\n",
    "predict_train = clf.predict(X_train)\n",
    "predict_test = clf.predict(X_test)\n",
    "\n",
    "# Accuracy tables\n",
    "table_train = pd.crosstab(y_train, predict_train, margins=True)\n",
    "table_test = pd.crosstab(y_test, predict_test, margins=True)\n",
    "\n",
    "train_tI_errors = table_train.loc[0.0,1.0] / table_train.loc['All', 'All']\n",
    "train_tII_errors = table_train.loc[1.0,0.0] / table_train.loc['All', 'All']\n",
    "\n",
    "test_tI_errors = table_test.loc[0.0,1.0] / table_test.loc['All', 'All']\n",
    "test_tII_errors = table_test.loc[1.0,0.0] / table_test.loc['All', 'All']\n",
    "\n",
    "print(('Training Set Accuracy: \\n'\n",
    "      'Percent Type I Errors: {}\\n'\n",
    "      'Percent Type II Errors: {}\\n'\n",
    "      'Test Set Accuracy: \\n'\n",
    "      'Percent Type I Errors: {}\\n'\n",
    "      'Percent Type II Errors: {}\\n').format(train_tI_errors, train_tII_errors, test_tI_errors, test_tII_errors))\n",
    "\n",
    "print(clf.score(X_train, y_train))\n",
    "print(clf.score(X_test, y_test))"
   ]
  },
  {
   "cell_type": "code",
   "execution_count": 102,
   "metadata": {
    "collapsed": true
   },
   "outputs": [],
   "source": [
    "# The accuracy of the training set went way up, but the accuracy of the test set went down.\n",
    "# Lets see what happens when we combine this with fewer iterations."
   ]
  },
  {
   "cell_type": "code",
   "execution_count": 105,
   "metadata": {},
   "outputs": [
    {
     "name": "stdout",
     "output_type": "stream",
     "text": [
      "Training Set Accuracy: \n",
      "Percent Type I Errors: 0.04187124931805783\n",
      "Percent Type II Errors: 0.1659847244953628\n",
      "Test Set Accuracy: \n",
      "Percent Type I Errors: 0.06993865030674846\n",
      "Percent Type II Errors: 0.17914110429447852\n",
      "\n",
      "0.792144026187\n",
      "0.750920245399\n"
     ]
    }
   ],
   "source": [
    "# Lets return the number of iterations to 500 and play with the depth of the trees to see how that changes things\n",
    "\n",
    "# Define outcome and predictors\n",
    "# Set out outcome to 0 and 1\n",
    "y = df['partner'] - 1\n",
    "X = df.loc[:, ~df.columns.isin(['partner', 'cntry', 'idno'])]\n",
    "\n",
    "# Make the categorical variable 'cntry' into dummies\n",
    "X = pd.concat([X, pd.get_dummies(df['cntry'])], axis=1)\n",
    "\n",
    "# Create training and test sets\n",
    "offset = int(X.shape[0] * 0.9)\n",
    "\n",
    "# Put 90% of the data in the training set\n",
    "X_train, y_train = X[:offset], y[:offset]\n",
    "\n",
    "# And put 10% in the test set\n",
    "X_test, y_test = X[offset:], y[offset:]\n",
    "\n",
    "# Change the iterations to 250; change the max_depth to 3\n",
    "params = {'n_estimators': 250,\n",
    "         'max_depth': 3,\n",
    "         'loss': 'deviance'}\n",
    "\n",
    "# Initialize and fit the model\n",
    "clf = ensemble.GradientBoostingClassifier(**params)\n",
    "clf.fit(X_train, y_train)\n",
    "\n",
    "predict_train = clf.predict(X_train)\n",
    "predict_test = clf.predict(X_test)\n",
    "\n",
    "# Accuracy tables\n",
    "table_train = pd.crosstab(y_train, predict_train, margins=True)\n",
    "table_test = pd.crosstab(y_test, predict_test, margins=True)\n",
    "\n",
    "train_tI_errors = table_train.loc[0.0,1.0] / table_train.loc['All', 'All']\n",
    "train_tII_errors = table_train.loc[1.0,0.0] / table_train.loc['All', 'All']\n",
    "\n",
    "test_tI_errors = table_test.loc[0.0,1.0] / table_test.loc['All', 'All']\n",
    "test_tII_errors = table_test.loc[1.0,0.0] / table_test.loc['All', 'All']\n",
    "\n",
    "print(('Training Set Accuracy: \\n'\n",
    "      'Percent Type I Errors: {}\\n'\n",
    "      'Percent Type II Errors: {}\\n'\n",
    "      'Test Set Accuracy: \\n'\n",
    "      'Percent Type I Errors: {}\\n'\n",
    "      'Percent Type II Errors: {}\\n').format(train_tI_errors, train_tII_errors, test_tI_errors, test_tII_errors))\n",
    "\n",
    "print(clf.score(X_train, y_train))\n",
    "print(clf.score(X_test, y_test))"
   ]
  },
  {
   "cell_type": "code",
   "execution_count": 106,
   "metadata": {
    "collapsed": true
   },
   "outputs": [],
   "source": [
    "# Increasing the max_depth of the trees results in overfitting the model, even when combined with fewer iterations.\n",
    "# The training set is much more accurate, but the test set decreases in accuracy. "
   ]
  },
  {
   "cell_type": "code",
   "execution_count": 107,
   "metadata": {
    "collapsed": true
   },
   "outputs": [],
   "source": [
    "# What overfitting strategies can I deploy? Lasso regression?"
   ]
  },
  {
   "cell_type": "code",
   "execution_count": 114,
   "metadata": {},
   "outputs": [
    {
     "name": "stdout",
     "output_type": "stream",
     "text": [
      "Training Set Accuracy: \n",
      "Percent Type I Errors: 0.04569012547735952\n",
      "Percent Type II Errors: 0.1842607746863066\n",
      "Test Set Accuracy: \n",
      "Percent Type I Errors: 0.053987730061349694\n",
      "Percent Type II Errors: 0.19386503067484662\n",
      "\n",
      "0.770049099836\n",
      "0.752147239264\n"
     ]
    }
   ],
   "source": [
    "# Lets try changing the cost function from 'deviance' to 'exponential' \n",
    "\n",
    "# Define outcome and predictors\n",
    "# Set out outcome to 0 and 1\n",
    "y = df['partner'] - 1\n",
    "X = df.loc[:, ~df.columns.isin(['partner', 'cntry', 'idno'])]\n",
    "\n",
    "# Make the categorical variable 'cntry' into dummies\n",
    "X = pd.concat([X, pd.get_dummies(df['cntry'])], axis=1)\n",
    "\n",
    "# Create training and test sets\n",
    "offset = int(X.shape[0] * 0.9)\n",
    "\n",
    "# Put 90% of the data in the training set\n",
    "X_train, y_train = X[:offset], y[:offset]\n",
    "\n",
    "# And put 10% in the test set\n",
    "X_test, y_test = X[offset:], y[offset:]\n",
    "\n",
    "# Change the iterations to 250; change the loss to 'exponential'\n",
    "params = {'n_estimators': 250,\n",
    "         'max_depth': 2,\n",
    "         'loss': 'exponential'}\n",
    "\n",
    "# Initialize and fit the model\n",
    "clf = ensemble.GradientBoostingClassifier(**params)\n",
    "clf.fit(X_train, y_train)\n",
    "\n",
    "predict_train = clf.predict(X_train)\n",
    "predict_test = clf.predict(X_test)\n",
    "\n",
    "# Accuracy tables\n",
    "table_train = pd.crosstab(y_train, predict_train, margins=True)\n",
    "table_test = pd.crosstab(y_test, predict_test, margins=True)\n",
    "\n",
    "train_tI_errors = table_train.loc[0.0,1.0] / table_train.loc['All', 'All']\n",
    "train_tII_errors = table_train.loc[1.0,0.0] / table_train.loc['All', 'All']\n",
    "\n",
    "test_tI_errors = table_test.loc[0.0,1.0] / table_test.loc['All', 'All']\n",
    "test_tII_errors = table_test.loc[1.0,0.0] / table_test.loc['All', 'All']\n",
    "\n",
    "print(('Training Set Accuracy: \\n'\n",
    "      'Percent Type I Errors: {}\\n'\n",
    "      'Percent Type II Errors: {}\\n'\n",
    "      'Test Set Accuracy: \\n'\n",
    "      'Percent Type I Errors: {}\\n'\n",
    "      'Percent Type II Errors: {}\\n').format(train_tI_errors, train_tII_errors, test_tI_errors, test_tII_errors))\n",
    "\n",
    "print(clf.score(X_train, y_train))\n",
    "print(clf.score(X_test, y_test))"
   ]
  },
  {
   "cell_type": "code",
   "execution_count": 141,
   "metadata": {},
   "outputs": [
    {
     "name": "stdout",
     "output_type": "stream",
     "text": [
      "Training Set Accuracy: \n",
      "Percent Type I Errors: 0.044326241134751775\n",
      "Percent Type II Errors: 0.1820785597381342\n",
      "Test Set Accuracy: \n",
      "Percent Type I Errors: 0.053987730061349694\n",
      "Percent Type II Errors: 0.19141104294478528\n",
      "\n",
      "0.773595199127\n",
      "0.754601226994\n"
     ]
    }
   ],
   "source": [
    "# Lets try subsampling\n",
    "\n",
    "# Now lets decrease the iterations to 250\n",
    "\n",
    "# Define outcome and predictors\n",
    "# Set out outcome to 0 and 1\n",
    "y = df['partner'] - 1\n",
    "X = df.loc[:, ~df.columns.isin(['partner', 'cntry', 'idno'])]\n",
    "\n",
    "# Make the categorical variable 'cntry' into dummies\n",
    "X = pd.concat([X, pd.get_dummies(df['cntry'])], axis=1)\n",
    "\n",
    "# Create training and test sets\n",
    "offset = int(X.shape[0] * 0.9)\n",
    "\n",
    "# Put 90% of the data in the training set\n",
    "X_train, y_train = X[:offset], y[:offset]\n",
    "\n",
    "# And put 10% in the test set\n",
    "X_test, y_test = X[offset:], y[offset:]\n",
    "\n",
    "# Change the iterations to 250\n",
    "params = {'n_estimators': 250,\n",
    "         'max_depth': 2,\n",
    "         'loss': 'deviance',\n",
    "         'subsample': 1.0}\n",
    "\n",
    "# Initialize and fit the model\n",
    "clf = ensemble.GradientBoostingClassifier(**params)\n",
    "clf.fit(X_train, y_train)\n",
    "\n",
    "predict_train = clf.predict(X_train)\n",
    "predict_test = clf.predict(X_test)\n",
    "\n",
    "# Accuracy tables\n",
    "table_train = pd.crosstab(y_train, predict_train, margins=True)\n",
    "table_test = pd.crosstab(y_test, predict_test, margins=True)\n",
    "\n",
    "train_tI_errors = table_train.loc[0.0,1.0] / table_train.loc['All', 'All']\n",
    "train_tII_errors = table_train.loc[1.0,0.0] / table_train.loc['All', 'All']\n",
    "\n",
    "test_tI_errors = table_test.loc[0.0,1.0] / table_test.loc['All', 'All']\n",
    "test_tII_errors = table_test.loc[1.0,0.0] / table_test.loc['All', 'All']\n",
    "\n",
    "print(('Training Set Accuracy: \\n'\n",
    "      'Percent Type I Errors: {}\\n'\n",
    "      'Percent Type II Errors: {}\\n'\n",
    "      'Test Set Accuracy: \\n'\n",
    "      'Percent Type I Errors: {}\\n'\n",
    "      'Percent Type II Errors: {}\\n').format(train_tI_errors, train_tII_errors, test_tI_errors, test_tII_errors))\n",
    "\n",
    "print(clf.score(X_train, y_train))\n",
    "print(clf.score(X_test, y_test))"
   ]
  },
  {
   "cell_type": "code",
   "execution_count": null,
   "metadata": {
    "collapsed": true
   },
   "outputs": [],
   "source": []
  }
 ],
 "metadata": {
  "kernelspec": {
   "display_name": "Python 3",
   "language": "python",
   "name": "python3"
  },
  "language_info": {
   "codemirror_mode": {
    "name": "ipython",
    "version": 3
   },
   "file_extension": ".py",
   "mimetype": "text/x-python",
   "name": "python",
   "nbconvert_exporter": "python",
   "pygments_lexer": "ipython3",
   "version": "3.6.1"
  }
 },
 "nbformat": 4,
 "nbformat_minor": 2
}
